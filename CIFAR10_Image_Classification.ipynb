{
  "cells": [
    {
      "cell_type": "markdown",
      "metadata": {
        "id": "aEBIxskWDNc0"
      },
      "source": [
        "\n",
        "\n",
        "\n",
        "## Alireza Ghafari\n",
        "\n",
        "\n"
      ]
    },
    {
      "cell_type": "markdown",
      "metadata": {
        "id": "hMpiOfvYkGjs"
      },
      "source": [
        "### Install Required Libs"
      ]
    },
    {
      "cell_type": "code",
      "execution_count": 239,
      "metadata": {
        "id": "9ebVYkTNkGjt"
      },
      "outputs": [],
      "source": [
        "# only local run: install required libs (recommended python version 3.10)\n",
        "# %pip install numpy\n",
        "# %pip install matplotlib\n",
        "# %pip install torch torchvision torchaudio tqdm"
      ]
    },
    {
      "cell_type": "markdown",
      "metadata": {
        "id": "IdpUys6PkGju"
      },
      "source": [
        "### Import Libs"
      ]
    },
    {
      "cell_type": "code",
      "execution_count": 240,
      "metadata": {
        "id": "n_E_QkCtkGju"
      },
      "outputs": [],
      "source": [
        "import torch\n",
        "import torch.nn as nn\n",
        "import torch.nn.functional as Functions\n",
        "import torch.optim as Optimizers\n",
        "\n",
        "from torchvision.datasets import CIFAR10\n",
        "from torchvision.transforms import ToTensor\n",
        "from torch.utils.data import DataLoader\n",
        "from tqdm.auto import tqdm\n",
        "\n",
        "import matplotlib.pyplot as plt"
      ]
    },
    {
      "cell_type": "markdown",
      "metadata": {
        "id": "80Nyn5BekGju"
      },
      "source": [
        "### Set Device\n",
        "You can use GPU instead of CPU for faster calculation!"
      ]
    },
    {
      "cell_type": "code",
      "execution_count": 241,
      "metadata": {
        "colab": {
          "base_uri": "https://localhost:8080/"
        },
        "id": "VLoz4a09kGjv",
        "outputId": "6592fee3-fbac-4603-9b0a-ad4b0773be71"
      },
      "outputs": [
        {
          "name": "stdout",
          "output_type": "stream",
          "text": [
            "cuda\n"
          ]
        }
      ],
      "source": [
        "device = \"cuda\" if torch.cuda.is_available() else \"cpu\"\n",
        "print(device)"
      ]
    },
    {
      "cell_type": "markdown",
      "metadata": {
        "id": "me6JlbYakGjv"
      },
      "source": [
        "### Download CIFAR-10 Dataset and Transform to Tensor"
      ]
    },
    {
      "cell_type": "code",
      "execution_count": 242,
      "metadata": {
        "colab": {
          "base_uri": "https://localhost:8080/"
        },
        "id": "FjjWZkmLkGjv",
        "outputId": "ce096ffe-cd23-4461-e8af-461d2d350bd9"
      },
      "outputs": [
        {
          "name": "stdout",
          "output_type": "stream",
          "text": [
            "Files already downloaded and verified\n",
            "Files already downloaded and verified\n"
          ]
        }
      ],
      "source": [
        "transform = ToTensor()\n",
        "\n",
        "\"Set download=True to download dataset online\"\n",
        "data_path = './data_cifar/'\n",
        "cifar10_train = CIFAR10(data_path, train=True, download=True, transform=transform)\n",
        "cifar10_test = CIFAR10(data_path, train=False, download=True, transform=transform)"
      ]
    },
    {
      "cell_type": "markdown",
      "metadata": {
        "id": "UOR3sj8HkGjv"
      },
      "source": [
        "### A Brief View on Data"
      ]
    },
    {
      "cell_type": "code",
      "execution_count": 243,
      "metadata": {
        "colab": {
          "base_uri": "https://localhost:8080/"
        },
        "id": "B8oULVnwkGjv",
        "outputId": "4166fee3-0b87-43de-efca-7f5da2fffd8e"
      },
      "outputs": [
        {
          "name": "stdout",
          "output_type": "stream",
          "text": [
            "Training:  50000\n",
            "Testing:  10000\n",
            "<class 'tuple'>\n",
            "<class 'torch.Tensor'>\n",
            "torch.Size([3, 32, 32])\n",
            "['airplane', 'automobile', 'bird', 'cat', 'deer', 'dog', 'frog', 'horse', 'ship', 'truck']\n",
            "6\n",
            "frog\n"
          ]
        }
      ],
      "source": [
        "# size of training and test sets\n",
        "print(\"Training: \", len(cifar10_train))\n",
        "print(\"Testing: \", len(cifar10_test))\n",
        "\n",
        "# type of train and test: it is a collection of tuple(tensor, label)\n",
        "print(type(cifar10_train[0]))\n",
        "\n",
        "# label, as you know, is the class of image\n",
        "# tensor contains image data (You will learn more about Tensor later)\n",
        "image, label = cifar10_train[0]\n",
        "print(type(image))\n",
        "\n",
        "# lets check the dimension - it is a 32x32 RGB image\n",
        "print(image.shape)\n",
        "\n",
        "# lets see what classes we have\n",
        "classes = cifar10_train.classes\n",
        "print(classes)\n",
        "print(label)\n",
        "print(classes[label])"
      ]
    },
    {
      "cell_type": "markdown",
      "metadata": {
        "id": "Bb5QKxp0kGjv"
      },
      "source": [
        "### Define Batch Size\n",
        "It is important to understand that to build the Neural Network we will work with a large number of parameters. For this reason, it makes sense to load training data in batches."
      ]
    },
    {
      "cell_type": "code",
      "execution_count": 244,
      "metadata": {
        "id": "feq9R36QkGjw"
      },
      "outputs": [],
      "source": [
        "train_loader = DataLoader(cifar10_train, batch_size=32, shuffle=True)\n",
        "test_loader = DataLoader(cifar10_test, batch_size=32, shuffle=False)"
      ]
    },
    {
      "cell_type": "markdown",
      "metadata": {
        "id": "mvzJolnzkGjw"
      },
      "source": [
        "### Define Model\n",
        "Here you need to define your model architecture, use your knowledge of ANN to design one."
      ]
    },
    {
      "cell_type": "code",
      "execution_count": 245,
      "metadata": {
        "id": "mvH5XvKukGjw"
      },
      "outputs": [],
      "source": [
        "import torch.nn.functional as F\n",
        "\n",
        "class Model(nn.Module):\n",
        "    def __init__(self):\n",
        "        super(Model, self).__init__()\n",
        "        self.conv1 = nn.Conv2d(3, 32, kernel_size=3, padding=1)\n",
        "        self.bn1 = nn.BatchNorm2d(32)\n",
        "        self.conv2 = nn.Conv2d(32, 64, kernel_size=3, padding=1)\n",
        "        self.bn2 = nn.BatchNorm2d(64)\n",
        "        self.conv3 = nn.Conv2d(64, 128, kernel_size=3, padding=1)\n",
        "        self.bn3 = nn.BatchNorm2d(128)\n",
        "        self.fc1 = nn.Linear(128*4*4, 512)\n",
        "        self.fc2 = nn.Linear(512, 10)\n",
        "        self.dropout = nn.Dropout(0.5)\n",
        "\n",
        "    def forward(self, x):\n",
        "        x = F.relu(self.bn1(self.conv1(x)))\n",
        "        x = F.max_pool2d(x, kernel_size=2, stride=2)\n",
        "        x = F.relu(self.bn2(self.conv2(x)))\n",
        "        x = F.max_pool2d(x, kernel_size=2, stride=2)\n",
        "        x = F.relu(self.bn3(self.conv3(x)))\n",
        "        x = F.max_pool2d(x, kernel_size=2, stride=2)\n",
        "        x = x.view(-1, 128*4*4)\n",
        "        x = F.relu(self.fc1(x))\n",
        "        x = self.dropout(x)\n",
        "        x = self.fc2(x)\n",
        "        return x\n",
        "\n"
      ]
    },
    {
      "cell_type": "markdown",
      "metadata": {
        "id": "jH0UuQqzkGjw"
      },
      "source": [
        "### Create Model"
      ]
    },
    {
      "cell_type": "code",
      "execution_count": 246,
      "metadata": {
        "colab": {
          "base_uri": "https://localhost:8080/"
        },
        "id": "EFJHBXvLkGjw",
        "outputId": "a05624de-ff26-4e04-f748-0cf0302ac133"
      },
      "outputs": [
        {
          "data": {
            "text/plain": [
              "Model(\n",
              "  (conv1): Conv2d(3, 32, kernel_size=(3, 3), stride=(1, 1), padding=(1, 1))\n",
              "  (bn1): BatchNorm2d(32, eps=1e-05, momentum=0.1, affine=True, track_running_stats=True)\n",
              "  (conv2): Conv2d(32, 64, kernel_size=(3, 3), stride=(1, 1), padding=(1, 1))\n",
              "  (bn2): BatchNorm2d(64, eps=1e-05, momentum=0.1, affine=True, track_running_stats=True)\n",
              "  (conv3): Conv2d(64, 128, kernel_size=(3, 3), stride=(1, 1), padding=(1, 1))\n",
              "  (bn3): BatchNorm2d(128, eps=1e-05, momentum=0.1, affine=True, track_running_stats=True)\n",
              "  (fc1): Linear(in_features=2048, out_features=512, bias=True)\n",
              "  (fc2): Linear(in_features=512, out_features=10, bias=True)\n",
              "  (dropout): Dropout(p=0.5, inplace=False)\n",
              ")"
            ]
          },
          "execution_count": 246,
          "metadata": {},
          "output_type": "execute_result"
        }
      ],
      "source": [
        "model = Model().to(device)\n",
        "model"
      ]
    },
    {
      "cell_type": "markdown",
      "metadata": {
        "id": "fIzxzFLrkGjw"
      },
      "source": [
        "### Choose a Loss Function"
      ]
    },
    {
      "cell_type": "code",
      "execution_count": 247,
      "metadata": {
        "id": "Y8hBEBWbkGjx"
      },
      "outputs": [],
      "source": [
        "criterion = nn.CrossEntropyLoss()"
      ]
    },
    {
      "cell_type": "markdown",
      "metadata": {
        "id": "uS9q4nEikGjx"
      },
      "source": [
        "### Choose an Optimizer"
      ]
    },
    {
      "cell_type": "code",
      "execution_count": 248,
      "metadata": {
        "id": "vyJhd4dOkGjx"
      },
      "outputs": [],
      "source": [
        "optimizer = Optimizers.Adam(model.parameters(), lr=0.001)\n"
      ]
    },
    {
      "cell_type": "markdown",
      "metadata": {
        "id": "YFGq6XM9kGjx"
      },
      "source": [
        "### Training Model\n",
        "After configuring all required parameters, it is time to train your model!"
      ]
    },
    {
      "cell_type": "code",
      "execution_count": 249,
      "metadata": {
        "colab": {
          "base_uri": "https://localhost:8080/",
          "height": 49,
          "referenced_widgets": [
            "fdaf3ab4a5444994b2cda2caeacc85e2",
            "2e70d7d8f02049aba293a12c3f0e5b33",
            "d668f8a7e88349a0941d2383e96803c1",
            "8d239938361c4013ac8c52b228406a4c",
            "fcf166f92a9f496b98a8ef9e3640d137",
            "3c590ac756b64d25a97d69f8c3440233",
            "d16ca7cbdb724807b34342ac9943be59",
            "5a0bb492ae034588ae4fe25348a87f5d",
            "8e14b6926cc04e9a933b0de2e426a4d0",
            "442e11f9900f422fb7ff00e7938a8321",
            "b5fcf16a87b8477fbc44b98e0734468e"
          ]
        },
        "id": "I4lgI6gskGjx",
        "outputId": "dcea8922-9d78-4ea5-9462-532389559dca"
      },
      "outputs": [
        {
          "data": {
            "application/vnd.jupyter.widget-view+json": {
              "model_id": "fdaf3ab4a5444994b2cda2caeacc85e2",
              "version_major": 2,
              "version_minor": 0
            },
            "text/plain": [
              "  0%|          | 0/18 [00:00<?, ?it/s]"
            ]
          },
          "metadata": {},
          "output_type": "display_data"
        }
      ],
      "source": [
        "EPOCHS = 18\n",
        "\n",
        "\n",
        "train_correct  = []\n",
        "test_correct = []\n",
        "\n",
        "best_train_acc = 0\n",
        "best_test_acc = 0\n",
        "\n",
        "for e in tqdm(range(EPOCHS)):\n",
        "\n",
        "  trn_corr = 0\n",
        "  tst_corr = 0\n",
        "\n",
        "  # training\n",
        "  model.train()\n",
        "  for X_train, y_train in train_loader:\n",
        "\n",
        "    X_train_dev = torch.autograd.Variable(X_train).to(device)\n",
        "    y_train_dev = torch.autograd.Variable(y_train).to(device)\n",
        "\n",
        "    optimizer.zero_grad()\n",
        "\n",
        "    y_pred_dev = model(X_train_dev)\n",
        "    loss = criterion(y_pred_dev, y_train_dev)\n",
        "\n",
        "    loss.backward()\n",
        "    optimizer.step()\n",
        "\n",
        "    predicted = torch.argmax(y_pred_dev, 1)\n",
        "    trn_corr += torch.sum(predicted == y_train_dev)\n",
        "\n",
        "  acc = (trn_corr/len(cifar10_train)).item()\n",
        "  best_train_acc = acc if(best_train_acc < acc) else best_train_acc\n",
        "  train_correct.append(acc)\n",
        "\n",
        "  # testing\n",
        "  model.eval()\n",
        "  for X_test, y_test in test_loader:\n",
        "\n",
        "    X_test = X_test.to(device)\n",
        "    y_test = y_test.to(device)\n",
        "\n",
        "    predicted = model(X_test)\n",
        "    predicted = torch.argmax(predicted, 1)\n",
        "    tst_corr += torch.sum(predicted == y_test)\n",
        "\n",
        "  acc = (tst_corr/len(cifar10_test)).item()\n",
        "  best_test_acc = acc if(best_test_acc < acc) else best_test_acc\n",
        "  test_correct.append(acc)"
      ]
    },
    {
      "cell_type": "markdown",
      "metadata": {
        "id": "jLWCgeZvkGjx"
      },
      "source": [
        "### Evaluation\n",
        "Here you can see your model performance."
      ]
    },
    {
      "cell_type": "code",
      "execution_count": 250,
      "metadata": {
        "colab": {
          "base_uri": "https://localhost:8080/",
          "height": 501
        },
        "id": "EFFRcUDGkGjy",
        "outputId": "9458eca1-f9a6-4a91-aadb-5f5701053fa7"
      },
      "outputs": [
        {
          "data": {
            "image/png": "[encoded data removed]",
            "text/plain": [
              "<Figure size 640x480 with 1 Axes>"
            ]
          },
          "metadata": {},
          "output_type": "display_data"
        },
        {
          "name": "stdout",
          "output_type": "stream",
          "text": [
            "\n",
            "On train - best accuracy: 0.91, final accuracy: 0.91\n",
            "On test - best accuracy: 0.80, final accuracy: 0.80\n"
          ]
        }
      ],
      "source": [
        "plt.plot(train_correct, label='train accuracy')\n",
        "plt.plot(test_correct, label = 'test accuracy')\n",
        "plt.xlabel('Epoch')\n",
        "plt.ylabel('Accuracy')\n",
        "plt.legend(loc='lower right')\n",
        "plt.show();\n",
        "\n",
        "print(\"\\nOn train - best accuracy: {:.2f}, final accuracy: {:.2f}\".format(best_train_acc, train_correct[-1]))\n",
        "print(\"On test - best accuracy: {:.2f}, final accuracy: {:.2f}\".format(best_test_acc, test_correct[-1]))"
      ]
    }
  ],
  "metadata": {
    "accelerator": "GPU",
    "colab": {
      "gpuType": "T4",
      "provenance": []
    },
    "kernelspec": {
      "display_name": "Python 3",
      "name": "python3"
    },
    "language_info": {
      "codemirror_mode": {
        "name": "ipython",
        "version": 3
      },
      "file_extension": ".py",
      "mimetype": "text/x-python",
      "name": "python",
      "nbconvert_exporter": "python",
      "pygments_lexer": "ipython3",
      "version": "3.10.10"
    },
    "widgets": {
      "application/vnd.jupyter.widget-state+json": {
        "2e70d7d8f02049aba293a12c3f0e5b33": {
          "model_module": "@jupyter-widgets/controls",
          "model_module_version": "1.5.0",
          "model_name": "HTMLModel",
          "state": {
            "_dom_classes": [],
            "_model_module": "@jupyter-widgets/controls",
            "_model_module_version": "1.5.0",
            "_model_name": "HTMLModel",
            "_view_count": null,
            "_view_module": "@jupyter-widgets/controls",
            "_view_module_version": "1.5.0",
            "_view_name": "HTMLView",
            "description": "",
            "description_tooltip": null,
            "layout": "IPY_MODEL_3c590ac756b64d25a97d69f8c3440233",
            "placeholder": "​",
            "style": "IPY_MODEL_d16ca7cbdb724807b34342ac9943be59",
            "value": "100%"
          }
        },
        "3c590ac756b64d25a97d69f8c3440233": {
          "model_module": "@jupyter-widgets/base",
          "model_module_version": "1.2.0",
          "model_name": "LayoutModel",
          "state": {
            "_model_module": "@jupyter-widgets/base",
            "_model_module_version": "1.2.0",
            "_model_name": "LayoutModel",
            "_view_count": null,
            "_view_module": "@jupyter-widgets/base",
            "_view_module_version": "1.2.0",
            "_view_name": "LayoutView",
            "align_content": null,
            "align_items": null,
            "align_self": null,
            "border": null,
            "bottom": null,
            "display": null,
            "flex": null,
            "flex_flow": null,
            "grid_area": null,
            "grid_auto_columns": null,
            "grid_auto_flow": null,
            "grid_auto_rows": null,
            "grid_column": null,
            "grid_gap": null,
            "grid_row": null,
            "grid_template_areas": null,
            "grid_template_columns": null,
            "grid_template_rows": null,
            "height": null,
            "justify_content": null,
            "justify_items": null,
            "left": null,
            "margin": null,
            "max_height": null,
            "max_width": null,
            "min_height": null,
            "min_width": null,
            "object_fit": null,
            "object_position": null,
            "order": null,
            "overflow": null,
            "overflow_x": null,
            "overflow_y": null,
            "padding": null,
            "right": null,
            "top": null,
            "visibility": null,
            "width": null
          }
        },
        "442e11f9900f422fb7ff00e7938a8321": {
          "model_module": "@jupyter-widgets/base",
          "model_module_version": "1.2.0",
          "model_name": "LayoutModel",
          "state": {
            "_model_module": "@jupyter-widgets/base",
            "_model_module_version": "1.2.0",
            "_model_name": "LayoutModel",
            "_view_count": null,
            "_view_module": "@jupyter-widgets/base",
            "_view_module_version": "1.2.0",
            "_view_name": "LayoutView",
            "align_content": null,
            "align_items": null,
            "align_self": null,
            "border": null,
            "bottom": null,
            "display": null,
            "flex": null,
            "flex_flow": null,
            "grid_area": null,
            "grid_auto_columns": null,
            "grid_auto_flow": null,
            "grid_auto_rows": null,
            "grid_column": null,
            "grid_gap": null,
            "grid_row": null,
            "grid_template_areas": null,
            "grid_template_columns": null,
            "grid_template_rows": null,
            "height": null,
            "justify_content": null,
            "justify_items": null,
            "left": null,
            "margin": null,
            "max_height": null,
            "max_width": null,
            "min_height": null,
            "min_width": null,
            "object_fit": null,
            "object_position": null,
            "order": null,
            "overflow": null,
            "overflow_x": null,
            "overflow_y": null,
            "padding": null,
            "right": null,
            "top": null,
            "visibility": null,
            "width": null
          }
        },
        "5a0bb492ae034588ae4fe25348a87f5d": {
          "model_module": "@jupyter-widgets/base",
          "model_module_version": "1.2.0",
          "model_name": "LayoutModel",
          "state": {
            "_model_module": "@jupyter-widgets/base",
            "_model_module_version": "1.2.0",
            "_model_name": "LayoutModel",
            "_view_count": null,
            "_view_module": "@jupyter-widgets/base",
            "_view_module_version": "1.2.0",
            "_view_name": "LayoutView",
            "align_content": null,
            "align_items": null,
            "align_self": null,
            "border": null,
            "bottom": null,
            "display": null,
            "flex": null,
            "flex_flow": null,
            "grid_area": null,
            "grid_auto_columns": null,
            "grid_auto_flow": null,
            "grid_auto_rows": null,
            "grid_column": null,
            "grid_gap": null,
            "grid_row": null,
            "grid_template_areas": null,
            "grid_template_columns": null,
            "grid_template_rows": null,
            "height": null,
            "justify_content": null,
            "justify_items": null,
            "left": null,
            "margin": null,
            "max_height": null,
            "max_width": null,
            "min_height": null,
            "min_width": null,
            "object_fit": null,
            "object_position": null,
            "order": null,
            "overflow": null,
            "overflow_x": null,
            "overflow_y": null,
            "padding": null,
            "right": null,
            "top": null,
            "visibility": null,
            "width": null
          }
        },
        "8d239938361c4013ac8c52b228406a4c": {
          "model_module": "@jupyter-widgets/controls",
          "model_module_version": "1.5.0",
          "model_name": "HTMLModel",
          "state": {
            "_dom_classes": [],
            "_model_module": "@jupyter-widgets/controls",
            "_model_module_version": "1.5.0",
            "_model_name": "HTMLModel",
            "_view_count": null,
            "_view_module": "@jupyter-widgets/controls",
            "_view_module_version": "1.5.0",
            "_view_name": "HTMLView",
            "description": "",
            "description_tooltip": null,
            "layout": "IPY_MODEL_442e11f9900f422fb7ff00e7938a8321",
            "placeholder": "​",
            "style": "IPY_MODEL_b5fcf16a87b8477fbc44b98e0734468e",
            "value": " 18/18 [04:01&lt;00:00, 13.40s/it]"
          }
        },
        "8e14b6926cc04e9a933b0de2e426a4d0": {
          "model_module": "@jupyter-widgets/controls",
          "model_module_version": "1.5.0",
          "model_name": "ProgressStyleModel",
          "state": {
            "_model_module": "@jupyter-widgets/controls",
            "_model_module_version": "1.5.0",
            "_model_name": "ProgressStyleModel",
            "_view_count": null,
            "_view_module": "@jupyter-widgets/base",
            "_view_module_version": "1.2.0",
            "_view_name": "StyleView",
            "bar_color": null,
            "description_width": ""
          }
        },
        "b5fcf16a87b8477fbc44b98e0734468e": {
          "model_module": "@jupyter-widgets/controls",
          "model_module_version": "1.5.0",
          "model_name": "DescriptionStyleModel",
          "state": {
            "_model_module": "@jupyter-widgets/controls",
            "_model_module_version": "1.5.0",
            "_model_name": "DescriptionStyleModel",
            "_view_count": null,
            "_view_module": "@jupyter-widgets/base",
            "_view_module_version": "1.2.0",
            "_view_name": "StyleView",
            "description_width": ""
          }
        },
        "d16ca7cbdb724807b34342ac9943be59": {
          "model_module": "@jupyter-widgets/controls",
          "model_module_version": "1.5.0",
          "model_name": "DescriptionStyleModel",
          "state": {
            "_model_module": "@jupyter-widgets/controls",
            "_model_module_version": "1.5.0",
            "_model_name": "DescriptionStyleModel",
            "_view_count": null,
            "_view_module": "@jupyter-widgets/base",
            "_view_module_version": "1.2.0",
            "_view_name": "StyleView",
            "description_width": ""
          }
        },
        "d668f8a7e88349a0941d2383e96803c1": {
          "model_module": "@jupyter-widgets/controls",
          "model_module_version": "1.5.0",
          "model_name": "FloatProgressModel",
          "state": {
            "_dom_classes": [],
            "_model_module": "@jupyter-widgets/controls",
            "_model_module_version": "1.5.0",
            "_model_name": "FloatProgressModel",
            "_view_count": null,
            "_view_module": "@jupyter-widgets/controls",
            "_view_module_version": "1.5.0",
            "_view_name": "ProgressView",
            "bar_style": "success",
            "description": "",
            "description_tooltip": null,
            "layout": "IPY_MODEL_5a0bb492ae034588ae4fe25348a87f5d",
            "max": 18,
            "min": 0,
            "orientation": "horizontal",
            "style": "IPY_MODEL_8e14b6926cc04e9a933b0de2e426a4d0",
            "value": 18
          }
        },
        "fcf166f92a9f496b98a8ef9e3640d137": {
          "model_module": "@jupyter-widgets/base",
          "model_module_version": "1.2.0",
          "model_name": "LayoutModel",
          "state": {
            "_model_module": "@jupyter-widgets/base",
            "_model_module_version": "1.2.0",
            "_model_name": "LayoutModel",
            "_view_count": null,
            "_view_module": "@jupyter-widgets/base",
            "_view_module_version": "1.2.0",
            "_view_name": "LayoutView",
            "align_content": null,
            "align_items": null,
            "align_self": null,
            "border": null,
            "bottom": null,
            "display": null,
            "flex": null,
            "flex_flow": null,
            "grid_area": null,
            "grid_auto_columns": null,
            "grid_auto_flow": null,
            "grid_auto_rows": null,
            "grid_column": null,
            "grid_gap": null,
            "grid_row": null,
            "grid_template_areas": null,
            "grid_template_columns": null,
            "grid_template_rows": null,
            "height": null,
            "justify_content": null,
            "justify_items": null,
            "left": null,
            "margin": null,
            "max_height": null,
            "max_width": null,
            "min_height": null,
            "min_width": null,
            "object_fit": null,
            "object_position": null,
            "order": null,
            "overflow": null,
            "overflow_x": null,
            "overflow_y": null,
            "padding": null,
            "right": null,
            "top": null,
            "visibility": null,
            "width": null
          }
        },
        "fdaf3ab4a5444994b2cda2caeacc85e2": {
          "model_module": "@jupyter-widgets/controls",
          "model_module_version": "1.5.0",
          "model_name": "HBoxModel",
          "state": {
            "_dom_classes": [],
            "_model_module": "@jupyter-widgets/controls",
            "_model_module_version": "1.5.0",
            "_model_name": "HBoxModel",
            "_view_count": null,
            "_view_module": "@jupyter-widgets/controls",
            "_view_module_version": "1.5.0",
            "_view_name": "HBoxView",
            "box_style": "",
            "children": [
              "IPY_MODEL_2e70d7d8f02049aba293a12c3f0e5b33",
              "IPY_MODEL_d668f8a7e88349a0941d2383e96803c1",
              "IPY_MODEL_8d239938361c4013ac8c52b228406a4c"
            ],
            "layout": "IPY_MODEL_fcf166f92a9f496b98a8ef9e3640d137"
          }
        }
      }
    }
  },
  "nbformat": 4,
  "nbformat_minor": 0
}
